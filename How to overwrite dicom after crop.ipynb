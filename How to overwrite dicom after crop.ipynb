{
  "nbformat": 4,
  "nbformat_minor": 0,
  "metadata": {
    "colab": {
      "name": "Overwriting Dcm.ipynb",
      "provenance": []
    },
    "kernelspec": {
      "name": "python3",
      "display_name": "Python 3"
    },
    "language_info": {
      "name": "python"
    }
  },
  "cells": [
    {
      "cell_type": "code",
      "metadata": {
        "colab": {
          "base_uri": "https://localhost:8080/"
        },
        "id": "PleIuUrCjThV",
        "outputId": "ddbe1d0c-453e-409f-d62a-8b7edad2d8a1"
      },
      "source": [
        "!pip install pydicom"
      ],
      "execution_count": 2,
      "outputs": [
        {
          "output_type": "stream",
          "text": [
            "Collecting pydicom\n",
            "\u001b[?25l  Downloading https://files.pythonhosted.org/packages/f4/15/df16546bc59bfca390cf072d473fb2c8acd4231636f64356593a63137e55/pydicom-2.1.2-py3-none-any.whl (1.9MB)\n",
            "\u001b[K     |████████████████████████████████| 1.9MB 5.6MB/s \n",
            "\u001b[?25hInstalling collected packages: pydicom\n",
            "Successfully installed pydicom-2.1.2\n"
          ],
          "name": "stdout"
        }
      ]
    },
    {
      "cell_type": "code",
      "metadata": {
        "id": "Tj6tecxzi5L-"
      },
      "source": [
        "import pydicom\n",
        "import numpy as np\n",
        "from PIL import Image"
      ],
      "execution_count": 17,
      "outputs": []
    },
    {
      "cell_type": "code",
      "metadata": {
        "colab": {
          "base_uri": "https://localhost:8080/"
        },
        "id": "zOFrqkH1jSFD",
        "outputId": "bc7e0eff-8605-4f6c-c062-4d2bead3e5a2"
      },
      "source": [
        "#Ler dcm file\n",
        "filename = 'Image-3.dcm'\n",
        "ds = pydicom.dcmread(filename)\n",
        "\n",
        "# Pegue o array do dicom\n",
        "data = ds.pixel_array\n",
        "print(data)\n",
        "print('A imagem possui a seguinte dimensão {} x {}'.format(data.shape[0],\n",
        "                                        data.shape[1]))\n",
        "l1 = int(np.round(data.shape[0] *0.1))\n",
        "l2 = int(np.round(data.shape[0] *0.9))\n",
        "h1 = int(np.round(data.shape[1] *0.1))\n",
        "h2 = int(np.round(data.shape[1] *0.9))\n",
        "#cortar o dicom em 20% em cada dimensão\n",
        "_cropdcm = data[l1:l2,h1:h2]\n",
        "\n",
        "print('A imagem possui a seguinte dimensão {} x {} '.format(\n",
        "    _cropdcm.shape[0], _cropdcm.shape[1]))\n",
        "\n",
        "# colocando o novo pixel no dcm\n",
        "ds.PixelData = _cropdcm.tostring()\n",
        "\n",
        "# atualizando o dcm file quanto ao shape\n",
        "ds.Rows = _cropdcm.shape[0]\n",
        "ds.Columns = _cropdcm.shape[1]\n",
        "\n",
        "# print the image information given in the dataset\n",
        "print('As informaçoes do novo arquivo dcm após crop: \\n')\n",
        "print(ds)\n",
        "print(ds.pixel_array)\n",
        "print(len(ds.PixelData))\n",
        "ds.save_as(\"after.dcm\")"
      ],
      "execution_count": 21,
      "outputs": [
        {
          "output_type": "stream",
          "text": [
            "[[[19 33 50]\n",
            "  [19 33 50]\n",
            "  [19 34 50]\n",
            "  ...\n",
            "  [19 33 50]\n",
            "  [19 34 50]\n",
            "  [19 33 50]]\n",
            "\n",
            " [[19 34 50]\n",
            "  [20 33 50]\n",
            "  [19 34 50]\n",
            "  ...\n",
            "  [19 34 50]\n",
            "  [19 34 50]\n",
            "  [19 34 50]]\n",
            "\n",
            " [[19 33 50]\n",
            "  [19 33 50]\n",
            "  [19 34 50]\n",
            "  ...\n",
            "  [19 33 50]\n",
            "  [19 34 50]\n",
            "  [19 34 50]]\n",
            "\n",
            " ...\n",
            "\n",
            " [[ 0  0  0]\n",
            "  [ 0  0  0]\n",
            "  [ 0  0  0]\n",
            "  ...\n",
            "  [ 0  0  0]\n",
            "  [ 0  0  0]\n",
            "  [ 0  0  0]]\n",
            "\n",
            " [[ 0  0  0]\n",
            "  [ 0  0  0]\n",
            "  [ 0  0  0]\n",
            "  ...\n",
            "  [ 0  0  0]\n",
            "  [ 0  0  0]\n",
            "  [ 0  0  0]]\n",
            "\n",
            " [[ 0  0  0]\n",
            "  [ 0  0  0]\n",
            "  [ 0  0  0]\n",
            "  ...\n",
            "  [ 0  0  0]\n",
            "  [ 0  0  0]\n",
            "  [ 0  0  0]]]\n",
            "A imagem possui a seguinte dimensão 768 x 1024\n",
            "A imagem possui a seguinte dimensão 614 x 820 \n",
            "As informaçoes do novo arquivo dcm após crop: \n",
            "\n",
            "Dataset.file_meta -------------------------------\n",
            "(0002, 0000) File Meta Information Group Length  UL: 198\n",
            "(0002, 0001) File Meta Information Version       OB: b'\\x00\\x01'\n",
            "(0002, 0002) Media Storage SOP Class UID         UI: Ultrasound Image Storage\n",
            "(0002, 0003) Media Storage SOP Instance UID      UI: 1.2.826.0.1.3680043.10.474.2712803447150513069142384506151077730\n",
            "(0002, 0010) Transfer Syntax UID                 UI: Explicit VR Little Endian\n",
            "(0002, 0012) Implementation Class UID            UI: 1.2.40.0.13.1.1.1\n",
            "(0002, 0013) Implementation Version Name         SH: 'dcm4che-1.4.38'\n",
            "-------------------------------------------------\n",
            "(0008, 0005) Specific Character Set              CS: 'ISO_IR 100'\n",
            "(0008, 0008) Image Type                          CS: ['ORIGINAL', 'PRIMARY', 'ABDOMINAL', '0001']\n",
            "(0008, 0012) Instance Creation Date              DA: '20190911'\n",
            "(0008, 0013) Instance Creation Time              TM: '200025'\n",
            "(0008, 0016) SOP Class UID                       UI: Ultrasound Image Storage\n",
            "(0008, 0018) SOP Instance UID                    UI: 1.2.826.0.1.3680043.10.474.2712803447150513069142384506151077730\n",
            "(0008, 0020) Study Date                          DA: '20190911'\n",
            "(0008, 0021) Series Date                         DA: '20190911'\n",
            "(0008, 0023) Content Date                        DA: '20190911'\n",
            "(0008, 0030) Study Time                          TM: '195215'\n",
            "(0008, 0031) Series Time                         TM: '195215'\n",
            "(0008, 0033) Content Time                        TM: '195506'\n",
            "(0008, 0050) Accession Number                    SH: '1843887751'\n",
            "(0008, 0060) Modality                            CS: 'US'\n",
            "(0008, 0070) Manufacturer                        LO: 'ALPINION'\n",
            "(0008, 0090) Referring Physician's Name          PN: ''\n",
            "(0008, 1030) Study Description                   LO: 'US ABDOMEN TOTAL'\n",
            "(0008, 1032)  Procedure Code Sequence  1 item(s) ---- \n",
            "   (0008, 0100) Code Value                          SH: '0343'\n",
            "   (0008, 0102) Coding Scheme Designator            SH: 'SYN99'\n",
            "   (0008, 0103) Coding Scheme Version               SH: ''\n",
            "   (0008, 0104) Code Meaning                        LO: 'US ABDOMEN TOTAL'\n",
            "   ---------\n",
            "(0008, 103e) Series Description                  LO: 'Abdome'\n",
            "(0008, 1090) Manufacturer's Model Name           LO: 'E-CUBE 8'\n",
            "(0010, 0010) Patient's Name                      PN: 'USABD-000350'\n",
            "(0010, 0020) Patient ID                          LO: 'USABD-000350'\n",
            "(0010, 0030) Patient's Birth Date                DA: '19831227'\n",
            "(0010, 0040) Patient's Sex                       CS: 'M'\n",
            "(0010, 1020) Patient's Size                      DS: None\n",
            "(0010, 1030) Patient's Weight                    DS: None\n",
            "(0010, 21c0) Pregnancy Status                    US: 0\n",
            "(0012, 0062) Patient Identity Removed            CS: 'YES'\n",
            "(0012, 0063) De-identification Method            LO: 'CTP Default'\n",
            "(0012, 0064)  De-identification Method Code Sequence  5 item(s) ---- \n",
            "   (0008, 0100) Code Value                          SH: '113100'\n",
            "   (0008, 0102) Coding Scheme Designator            SH: 'DCM'\n",
            "   (0008, 0104) Code Meaning                        LO: 'Basic Application Confidentiality Profile'\n",
            "   ---------\n",
            "   (0008, 0100) Code Value                          SH: '113105'\n",
            "   (0008, 0102) Coding Scheme Designator            SH: 'DCM'\n",
            "   (0008, 0104) Code Meaning                        LO: 'Clean Descriptors Option'\n",
            "   ---------\n",
            "   (0008, 0100) Code Value                          SH: '113107'\n",
            "   (0008, 0102) Coding Scheme Designator            SH: 'DCM'\n",
            "   (0008, 0104) Code Meaning                        LO: 'Retain Longitudinal Temporal Information Modified Dates Option'\n",
            "   ---------\n",
            "   (0008, 0100) Code Value                          SH: '113108'\n",
            "   (0008, 0102) Coding Scheme Designator            SH: 'DCM'\n",
            "   (0008, 0104) Code Meaning                        LO: 'Retain Patient Characteristics Option'\n",
            "   ---------\n",
            "   (0008, 0100) Code Value                          SH: '113109'\n",
            "   (0008, 0102) Coding Scheme Designator            SH: 'DCM'\n",
            "   (0008, 0104) Code Meaning                        LO: 'Retain Device Identity Option'\n",
            "   ---------\n",
            "(0018, 1000) Device Serial Number                LO: 'L03489'\n",
            "(0018, 1020) Software Versions                   LO: '1.3.6.159'\n",
            "(0018, 5010) Transducer Data                     LO: 'C1-6CT'\n",
            "(0018, 6011)  Sequence of Ultrasound Regions  1 item(s) ---- \n",
            "   (0018, 6012) Region Spatial Format               US: 1\n",
            "   (0018, 6014) Region Data Type                    US: 1\n",
            "   (0018, 6016) Region Flags                        UL: 2\n",
            "   (0018, 6018) Region Location Min X0              UL: 0\n",
            "   (0018, 601a) Region Location Min Y0              UL: 90\n",
            "   (0018, 601c) Region Location Max X1              UL: 1024\n",
            "   (0018, 601e) Region Location Max Y1              UL: 628\n",
            "   (0018, 6020) Reference Pixel X0                  SL: 739\n",
            "   (0018, 6022) Reference Pixel Y0                  SL: 31\n",
            "   (0018, 6024) Physical Units X Direction          US: 3\n",
            "   (0018, 6026) Physical Units Y Direction          US: 3\n",
            "   (0018, 6028) Reference Pixel Physical Value X    FD: 18.95588493347168\n",
            "   (0018, 602a) Reference Pixel Physical Value Y    FD: 0.795172393321991\n",
            "   (0018, 602c) Physical Delta X                    FD: 0.02565072290599346\n",
            "   (0018, 602e) Physical Delta Y                    FD: 0.02565072290599346\n",
            "   (0018, 6030) Transducer Frequency                UL: 4400000\n",
            "   ---------\n",
            "(0020, 000d) Study Instance UID                  UI: 1.2.826.0.1.3680043.10.474.7131859657274999183591564670709960397\n",
            "(0020, 000e) Series Instance UID                 UI: 1.2.826.0.1.3680043.10.474.1505490433839531081021883509053395222\n",
            "(0020, 0010) Study ID                            SH: '0343'\n",
            "(0020, 0011) Series Number                       IS: \"0\"\n",
            "(0020, 0013) Instance Number                     IS: \"3\"\n",
            "(0020, 0020) Patient Orientation                 CS: ''\n",
            "(0028, 0002) Samples per Pixel                   US: 3\n",
            "(0028, 0004) Photometric Interpretation          CS: 'RGB'\n",
            "(0028, 0006) Planar Configuration                US: 0\n",
            "(0028, 0010) Rows                                US: 614\n",
            "(0028, 0011) Columns                             US: 820\n",
            "(0028, 0014) Ultrasound Color Data Present       US: 0\n",
            "(0028, 0030) Pixel Spacing                       DS: [0.256507, 0.256507]\n",
            "(0028, 0100) Bits Allocated                      US: 8\n",
            "(0028, 0101) Bits Stored                         US: 8\n",
            "(0028, 0102) High Bit                            US: 7\n",
            "(0028, 0103) Pixel Representation                US: 0\n",
            "(0028, 0303) Longitudinal Temporal Information M CS: 'MODIFIED'\n",
            "(0028, 2110) Lossy Image Compression             CS: '00'\n",
            "(7fe0, 0010) Pixel Data                          OB: Array of 1510440 elements\n",
            "[[[0 0 0]\n",
            "  [0 0 0]\n",
            "  [0 0 0]\n",
            "  ...\n",
            "  [0 0 0]\n",
            "  [0 0 0]\n",
            "  [0 0 0]]\n",
            "\n",
            " [[0 0 0]\n",
            "  [0 0 0]\n",
            "  [0 0 0]\n",
            "  ...\n",
            "  [0 0 0]\n",
            "  [0 0 0]\n",
            "  [0 0 0]]\n",
            "\n",
            " [[0 0 0]\n",
            "  [0 0 0]\n",
            "  [0 0 0]\n",
            "  ...\n",
            "  [0 0 0]\n",
            "  [0 0 0]\n",
            "  [0 0 0]]\n",
            "\n",
            " ...\n",
            "\n",
            " [[0 0 0]\n",
            "  [0 0 0]\n",
            "  [0 0 0]\n",
            "  ...\n",
            "  [0 0 0]\n",
            "  [0 0 0]\n",
            "  [0 0 0]]\n",
            "\n",
            " [[0 0 0]\n",
            "  [0 0 0]\n",
            "  [0 0 0]\n",
            "  ...\n",
            "  [0 0 0]\n",
            "  [0 0 0]\n",
            "  [0 0 0]]\n",
            "\n",
            " [[0 0 0]\n",
            "  [0 0 0]\n",
            "  [0 0 0]\n",
            "  ...\n",
            "  [0 0 0]\n",
            "  [0 0 0]\n",
            "  [0 0 0]]]\n",
            "1510440\n"
          ],
          "name": "stdout"
        },
        {
          "output_type": "stream",
          "text": [
            "/usr/local/lib/python3.7/dist-packages/ipykernel_launcher.py:21: DeprecationWarning: tostring() is deprecated. Use tobytes() instead.\n"
          ],
          "name": "stderr"
        }
      ]
    },
    {
      "cell_type": "code",
      "metadata": {
        "id": "YWawaI13o4py"
      },
      "source": [
        "import matplotlib.pyplot as plt"
      ],
      "execution_count": 25,
      "outputs": []
    },
    {
      "cell_type": "code",
      "metadata": {
        "colab": {
          "base_uri": "https://localhost:8080/",
          "height": 286
        },
        "id": "yqKvRIL9lfoQ",
        "outputId": "06552a25-c8e8-46ed-a5d5-3da383599414"
      },
      "source": [
        "plt.imshow(_cropdcm)"
      ],
      "execution_count": 26,
      "outputs": [
        {
          "output_type": "execute_result",
          "data": {
            "text/plain": [
              "<matplotlib.image.AxesImage at 0x7f4df51b8510>"
            ]
          },
          "metadata": {
            "tags": []
          },
          "execution_count": 26
        },
        {
          "output_type": "display_data",
          "data": {
            "image/png": "[encoded data removed]",
            "text/plain": [
              "<Figure size 432x288 with 1 Axes>"
            ]
          },
          "metadata": {
            "tags": [],
            "needs_background": "light"
          }
        }
      ]
    },
    {
      "cell_type": "code",
      "metadata": {
        "id": "4LqmoZD6o3sK"
      },
      "source": [
        ""
      ],
      "execution_count": null,
      "outputs": []
    }
  ]
}